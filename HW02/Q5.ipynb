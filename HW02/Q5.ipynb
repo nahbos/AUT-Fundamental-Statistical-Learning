{
  "nbformat": 4,
  "nbformat_minor": 0,
  "metadata": {
    "colab": {
      "provenance": [],
      "toc_visible": true,
      "authorship_tag": "ABX9TyOev/98sPa3g0N0WIjLQlCs",
      "include_colab_link": true
    },
    "kernelspec": {
      "name": "python3",
      "display_name": "Python 3"
    },
    "language_info": {
      "name": "python"
    },
    "gpuClass": "standard",
    "widgets": {
      "application/vnd.jupyter.widget-state+json": {
        "f8cff23730be43f89263a71bdbf194bc": {
          "model_module": "@jupyter-widgets/controls",
          "model_name": "HBoxModel",
          "model_module_version": "1.5.0",
          "state": {
            "_dom_classes": [],
            "_model_module": "@jupyter-widgets/controls",
            "_model_module_version": "1.5.0",
            "_model_name": "HBoxModel",
            "_view_count": null,
            "_view_module": "@jupyter-widgets/controls",
            "_view_module_version": "1.5.0",
            "_view_name": "HBoxView",
            "box_style": "",
            "children": [
              "IPY_MODEL_d439104744ec4defb9749e4f696cf540",
              "IPY_MODEL_31e2ffcc2bf241869a087bb6badeb050",
              "IPY_MODEL_f4f313c0dc474cb291f9f21546736cfe"
            ],
            "layout": "IPY_MODEL_e712217b8a3342b181dc4fd0419bcb1a"
          }
        },
        "d439104744ec4defb9749e4f696cf540": {
          "model_module": "@jupyter-widgets/controls",
          "model_name": "HTMLModel",
          "model_module_version": "1.5.0",
          "state": {
            "_dom_classes": [],
            "_model_module": "@jupyter-widgets/controls",
            "_model_module_version": "1.5.0",
            "_model_name": "HTMLModel",
            "_view_count": null,
            "_view_module": "@jupyter-widgets/controls",
            "_view_module_version": "1.5.0",
            "_view_name": "HTMLView",
            "description": "",
            "description_tooltip": null,
            "layout": "IPY_MODEL_3f36911ef23040b8881a8e01a71f3bfd",
            "placeholder": "​",
            "style": "IPY_MODEL_bf809888382748f39177ce9fd47ab630",
            "value": "100%"
          }
        },
        "31e2ffcc2bf241869a087bb6badeb050": {
          "model_module": "@jupyter-widgets/controls",
          "model_name": "FloatProgressModel",
          "model_module_version": "1.5.0",
          "state": {
            "_dom_classes": [],
            "_model_module": "@jupyter-widgets/controls",
            "_model_module_version": "1.5.0",
            "_model_name": "FloatProgressModel",
            "_view_count": null,
            "_view_module": "@jupyter-widgets/controls",
            "_view_module_version": "1.5.0",
            "_view_name": "ProgressView",
            "bar_style": "success",
            "description": "",
            "description_tooltip": null,
            "layout": "IPY_MODEL_3d543a2247994aadaefcf2c21611dfd7",
            "max": 1000000,
            "min": 0,
            "orientation": "horizontal",
            "style": "IPY_MODEL_ddf7b039edbd49c4921e46c0724e7ebb",
            "value": 1000000
          }
        },
        "f4f313c0dc474cb291f9f21546736cfe": {
          "model_module": "@jupyter-widgets/controls",
          "model_name": "HTMLModel",
          "model_module_version": "1.5.0",
          "state": {
            "_dom_classes": [],
            "_model_module": "@jupyter-widgets/controls",
            "_model_module_version": "1.5.0",
            "_model_name": "HTMLModel",
            "_view_count": null,
            "_view_module": "@jupyter-widgets/controls",
            "_view_module_version": "1.5.0",
            "_view_name": "HTMLView",
            "description": "",
            "description_tooltip": null,
            "layout": "IPY_MODEL_f7e8c39380ad4a15a2436fa25b3b14b2",
            "placeholder": "​",
            "style": "IPY_MODEL_3f8bbb52e56e48c786ae8c3e62f65282",
            "value": " 1000000/1000000 [00:38&lt;00:00, 25954.57it/s]"
          }
        },
        "e712217b8a3342b181dc4fd0419bcb1a": {
          "model_module": "@jupyter-widgets/base",
          "model_name": "LayoutModel",
          "model_module_version": "1.2.0",
          "state": {
            "_model_module": "@jupyter-widgets/base",
            "_model_module_version": "1.2.0",
            "_model_name": "LayoutModel",
            "_view_count": null,
            "_view_module": "@jupyter-widgets/base",
            "_view_module_version": "1.2.0",
            "_view_name": "LayoutView",
            "align_content": null,
            "align_items": null,
            "align_self": null,
            "border": null,
            "bottom": null,
            "display": null,
            "flex": null,
            "flex_flow": null,
            "grid_area": null,
            "grid_auto_columns": null,
            "grid_auto_flow": null,
            "grid_auto_rows": null,
            "grid_column": null,
            "grid_gap": null,
            "grid_row": null,
            "grid_template_areas": null,
            "grid_template_columns": null,
            "grid_template_rows": null,
            "height": null,
            "justify_content": null,
            "justify_items": null,
            "left": null,
            "margin": null,
            "max_height": null,
            "max_width": null,
            "min_height": null,
            "min_width": null,
            "object_fit": null,
            "object_position": null,
            "order": null,
            "overflow": null,
            "overflow_x": null,
            "overflow_y": null,
            "padding": null,
            "right": null,
            "top": null,
            "visibility": null,
            "width": null
          }
        },
        "3f36911ef23040b8881a8e01a71f3bfd": {
          "model_module": "@jupyter-widgets/base",
          "model_name": "LayoutModel",
          "model_module_version": "1.2.0",
          "state": {
            "_model_module": "@jupyter-widgets/base",
            "_model_module_version": "1.2.0",
            "_model_name": "LayoutModel",
            "_view_count": null,
            "_view_module": "@jupyter-widgets/base",
            "_view_module_version": "1.2.0",
            "_view_name": "LayoutView",
            "align_content": null,
            "align_items": null,
            "align_self": null,
            "border": null,
            "bottom": null,
            "display": null,
            "flex": null,
            "flex_flow": null,
            "grid_area": null,
            "grid_auto_columns": null,
            "grid_auto_flow": null,
            "grid_auto_rows": null,
            "grid_column": null,
            "grid_gap": null,
            "grid_row": null,
            "grid_template_areas": null,
            "grid_template_columns": null,
            "grid_template_rows": null,
            "height": null,
            "justify_content": null,
            "justify_items": null,
            "left": null,
            "margin": null,
            "max_height": null,
            "max_width": null,
            "min_height": null,
            "min_width": null,
            "object_fit": null,
            "object_position": null,
            "order": null,
            "overflow": null,
            "overflow_x": null,
            "overflow_y": null,
            "padding": null,
            "right": null,
            "top": null,
            "visibility": null,
            "width": null
          }
        },
        "bf809888382748f39177ce9fd47ab630": {
          "model_module": "@jupyter-widgets/controls",
          "model_name": "DescriptionStyleModel",
          "model_module_version": "1.5.0",
          "state": {
            "_model_module": "@jupyter-widgets/controls",
            "_model_module_version": "1.5.0",
            "_model_name": "DescriptionStyleModel",
            "_view_count": null,
            "_view_module": "@jupyter-widgets/base",
            "_view_module_version": "1.2.0",
            "_view_name": "StyleView",
            "description_width": ""
          }
        },
        "3d543a2247994aadaefcf2c21611dfd7": {
          "model_module": "@jupyter-widgets/base",
          "model_name": "LayoutModel",
          "model_module_version": "1.2.0",
          "state": {
            "_model_module": "@jupyter-widgets/base",
            "_model_module_version": "1.2.0",
            "_model_name": "LayoutModel",
            "_view_count": null,
            "_view_module": "@jupyter-widgets/base",
            "_view_module_version": "1.2.0",
            "_view_name": "LayoutView",
            "align_content": null,
            "align_items": null,
            "align_self": null,
            "border": null,
            "bottom": null,
            "display": null,
            "flex": null,
            "flex_flow": null,
            "grid_area": null,
            "grid_auto_columns": null,
            "grid_auto_flow": null,
            "grid_auto_rows": null,
            "grid_column": null,
            "grid_gap": null,
            "grid_row": null,
            "grid_template_areas": null,
            "grid_template_columns": null,
            "grid_template_rows": null,
            "height": null,
            "justify_content": null,
            "justify_items": null,
            "left": null,
            "margin": null,
            "max_height": null,
            "max_width": null,
            "min_height": null,
            "min_width": null,
            "object_fit": null,
            "object_position": null,
            "order": null,
            "overflow": null,
            "overflow_x": null,
            "overflow_y": null,
            "padding": null,
            "right": null,
            "top": null,
            "visibility": null,
            "width": null
          }
        },
        "ddf7b039edbd49c4921e46c0724e7ebb": {
          "model_module": "@jupyter-widgets/controls",
          "model_name": "ProgressStyleModel",
          "model_module_version": "1.5.0",
          "state": {
            "_model_module": "@jupyter-widgets/controls",
            "_model_module_version": "1.5.0",
            "_model_name": "ProgressStyleModel",
            "_view_count": null,
            "_view_module": "@jupyter-widgets/base",
            "_view_module_version": "1.2.0",
            "_view_name": "StyleView",
            "bar_color": null,
            "description_width": ""
          }
        },
        "f7e8c39380ad4a15a2436fa25b3b14b2": {
          "model_module": "@jupyter-widgets/base",
          "model_name": "LayoutModel",
          "model_module_version": "1.2.0",
          "state": {
            "_model_module": "@jupyter-widgets/base",
            "_model_module_version": "1.2.0",
            "_model_name": "LayoutModel",
            "_view_count": null,
            "_view_module": "@jupyter-widgets/base",
            "_view_module_version": "1.2.0",
            "_view_name": "LayoutView",
            "align_content": null,
            "align_items": null,
            "align_self": null,
            "border": null,
            "bottom": null,
            "display": null,
            "flex": null,
            "flex_flow": null,
            "grid_area": null,
            "grid_auto_columns": null,
            "grid_auto_flow": null,
            "grid_auto_rows": null,
            "grid_column": null,
            "grid_gap": null,
            "grid_row": null,
            "grid_template_areas": null,
            "grid_template_columns": null,
            "grid_template_rows": null,
            "height": null,
            "justify_content": null,
            "justify_items": null,
            "left": null,
            "margin": null,
            "max_height": null,
            "max_width": null,
            "min_height": null,
            "min_width": null,
            "object_fit": null,
            "object_position": null,
            "order": null,
            "overflow": null,
            "overflow_x": null,
            "overflow_y": null,
            "padding": null,
            "right": null,
            "top": null,
            "visibility": null,
            "width": null
          }
        },
        "3f8bbb52e56e48c786ae8c3e62f65282": {
          "model_module": "@jupyter-widgets/controls",
          "model_name": "DescriptionStyleModel",
          "model_module_version": "1.5.0",
          "state": {
            "_model_module": "@jupyter-widgets/controls",
            "_model_module_version": "1.5.0",
            "_model_name": "DescriptionStyleModel",
            "_view_count": null,
            "_view_module": "@jupyter-widgets/base",
            "_view_module_version": "1.2.0",
            "_view_name": "StyleView",
            "description_width": ""
          }
        }
      }
    }
  },
  "cells": [
    {
      "cell_type": "markdown",
      "metadata": {
        "id": "view-in-github",
        "colab_type": "text"
      },
      "source": [
        "<a href=\"https://colab.research.google.com/github/nahbos/AUT-Fundamental-Statistical-Learning/blob/main/HW02/Q5.ipynb\" target=\"_parent\"><img src=\"https://colab.research.google.com/assets/colab-badge.svg\" alt=\"Open In Colab\"/></a>"
      ]
    },
    {
      "cell_type": "markdown",
      "source": [
        "## Sobhan Moradian Daghigh\n",
        "\n",
        "- 12-23-2022\n",
        "\n",
        "### Ex02 - Q5"
      ],
      "metadata": {
        "id": "-FSqtmoz-gpg"
      }
    },
    {
      "cell_type": "code",
      "source": [
        "import numpy as np\n",
        "from matplotlib import pyplot as plt\n",
        "import random\n",
        "from scipy.stats import norm\n",
        "from tqdm.notebook import tqdm\n",
        "import pandas as pd\n",
        "import math"
      ],
      "metadata": {
        "id": "WmTnhFLc-os_"
      },
      "execution_count": 9,
      "outputs": []
    },
    {
      "cell_type": "code",
      "source": [],
      "metadata": {
        "id": "9m90jfrVMI2b"
      },
      "execution_count": null,
      "outputs": []
    },
    {
      "cell_type": "markdown",
      "source": [
        "## a."
      ],
      "metadata": {
        "id": "A5KfjncDMJe7"
      }
    },
    {
      "cell_type": "code",
      "source": [
        "X = norm.rvs(loc=5, scale=1, size=100)\n",
        "X"
      ],
      "metadata": {
        "id": "9QXARrayOTcL",
        "outputId": "485ccbd1-b0ce-4319-95cd-243057113477",
        "colab": {
          "base_uri": "https://localhost:8080/"
        }
      },
      "execution_count": 3,
      "outputs": [
        {
          "output_type": "execute_result",
          "data": {
            "text/plain": [
              "array([4.49810058, 3.24133675, 4.92380737, 3.51505491, 2.93609304,\n",
              "       5.0116336 , 5.06617968, 4.22187681, 4.7553135 , 4.11107691,\n",
              "       5.03623824, 5.67278713, 5.06589661, 6.45364311, 4.28861905,\n",
              "       4.92668351, 5.99983893, 4.33735979, 5.45595909, 4.73452598,\n",
              "       5.81224333, 6.08590303, 6.14267838, 5.06582679, 5.29213372,\n",
              "       5.29938655, 4.31202338, 5.60792773, 5.01181184, 4.53594081,\n",
              "       5.0556028 , 5.47166782, 5.23878233, 4.97071093, 6.03959278,\n",
              "       5.63804266, 5.66456617, 2.86050679, 3.85583682, 4.7549662 ,\n",
              "       4.26636062, 7.02921857, 5.26055638, 4.1347428 , 5.81896396,\n",
              "       3.88612624, 4.24558361, 6.43755166, 4.85660043, 5.83471598,\n",
              "       6.94463601, 4.25554772, 6.43637603, 7.36611699, 2.68676032,\n",
              "       3.0683171 , 5.50494733, 5.8308268 , 5.539213  , 4.65282613,\n",
              "       5.66590106, 6.96155545, 4.85158527, 6.01034975, 4.7515523 ,\n",
              "       4.51337131, 5.34122896, 5.06987184, 5.0478709 , 3.98981776,\n",
              "       4.27977492, 4.80385077, 5.38365684, 6.41738931, 6.51194748,\n",
              "       4.11305483, 3.45942892, 5.98441097, 3.33536337, 5.58231175,\n",
              "       4.35559898, 5.0807108 , 5.28824737, 3.98426621, 3.07891106,\n",
              "       5.04065278, 5.67818791, 3.9786736 , 5.35174615, 5.00770719,\n",
              "       5.59242255, 5.32709447, 5.70423665, 4.78417212, 3.51397033,\n",
              "       3.13409333, 4.03458518, 3.35181751, 5.1303357 , 4.92869024])"
            ]
          },
          "metadata": {},
          "execution_count": 3
        }
      ]
    },
    {
      "cell_type": "code",
      "source": [],
      "metadata": {
        "id": "RFZu227yywJh"
      },
      "execution_count": null,
      "outputs": []
    },
    {
      "cell_type": "markdown",
      "source": [
        "## b."
      ],
      "metadata": {
        "id": "a6utjK84OUXz"
      }
    },
    {
      "cell_type": "code",
      "source": [
        "theta_hat = np.exp(X.mean())\n",
        "\n",
        "B = 1000000\n",
        "t_boot_nonparam = np.empty(B)\n",
        "n = len(X)\n",
        "for i in tqdm(range(B)):\n",
        "    xx = np.random.choice(X, n, replace=True)\n",
        "    t_boot_nonparam[i] = np.exp(xx.mean())\n",
        "    \n",
        "se_boot = t_boot_nonparam.std()\n",
        "\n",
        "alpha = 0.06\n",
        "z = norm.ppf(1 - alpha/2)\n",
        "normal_conf = (theta_hat - z * se_boot, theta_hat + z * se_boot)\n",
        "\n",
        "print('|_ 94%% confidence interval: \\t (%.3f, %.3f)' % normal_conf)"
      ],
      "metadata": {
        "id": "rFEy8qOtywL5",
        "outputId": "961ad895-45cb-4631-cb61-616fc722df61",
        "colab": {
          "base_uri": "https://localhost:8080/",
          "height": 67,
          "referenced_widgets": [
            "f8cff23730be43f89263a71bdbf194bc",
            "d439104744ec4defb9749e4f696cf540",
            "31e2ffcc2bf241869a087bb6badeb050",
            "f4f313c0dc474cb291f9f21546736cfe",
            "e712217b8a3342b181dc4fd0419bcb1a",
            "3f36911ef23040b8881a8e01a71f3bfd",
            "bf809888382748f39177ce9fd47ab630",
            "3d543a2247994aadaefcf2c21611dfd7",
            "ddf7b039edbd49c4921e46c0724e7ebb",
            "f7e8c39380ad4a15a2436fa25b3b14b2",
            "3f8bbb52e56e48c786ae8c3e62f65282"
          ]
        }
      },
      "execution_count": 5,
      "outputs": [
        {
          "output_type": "display_data",
          "data": {
            "text/plain": [
              "  0%|          | 0/1000000 [00:00<?, ?it/s]"
            ],
            "application/vnd.jupyter.widget-view+json": {
              "version_major": 2,
              "version_minor": 0,
              "model_id": "f8cff23730be43f89263a71bdbf194bc"
            }
          },
          "metadata": {}
        },
        {
          "output_type": "stream",
          "name": "stdout",
          "text": [
            "|_ 94% confidence interval: \t (115.287, 168.321)\n"
          ]
        }
      ]
    },
    {
      "cell_type": "code",
      "source": [],
      "metadata": {
        "id": "4j1IPe4AyvXr"
      },
      "execution_count": null,
      "outputs": []
    },
    {
      "cell_type": "markdown",
      "source": [
        "\n",
        "## c."
      ],
      "metadata": {
        "id": "iePPab8kW7Bl"
      }
    },
    {
      "cell_type": "code",
      "source": [
        "bins = np.linspace(50, 250, 500)"
      ],
      "metadata": {
        "id": "Uq-do75dUtAd"
      },
      "execution_count": 6,
      "outputs": []
    },
    {
      "cell_type": "code",
      "source": [
        "def theta_cdf(x):\n",
        "    return norm.cdf(np.log(x), loc=5, scale=1/50)"
      ],
      "metadata": {
        "id": "5UTyNteuDMsm"
      },
      "execution_count": 7,
      "outputs": []
    },
    {
      "cell_type": "code",
      "source": [
        "theta_cdf_bins = list(map(theta_cdf, bins))\n",
        "theta_cdf_bins_delta = np.empty(len(bins))\n",
        "theta_cdf_bins_delta[0] = 0\n",
        "theta_cdf_bins_delta[1:] = np.diff(theta_cdf_bins)"
      ],
      "metadata": {
        "id": "ZbNDRq9Kyvux"
      },
      "execution_count": 8,
      "outputs": []
    },
    {
      "cell_type": "code",
      "source": [
        "with plt.style.context('seaborn'):\n",
        "  plt.figure(figsize=(15, 8))\n",
        "  plt.hist(t_boot_nonparam, bins, label='Nonparametric bootstrap', color='red', histtype='step', density=True)\n",
        "  plt.step(bins, theta_cdf_bins_delta, color='green', label='True sampling distribution')\n",
        "  plt.axvline(x=np.exp(5), color='blue', label='True theta', linestyle='dashed')\n",
        "  plt.legend()\n",
        "  plt.show()"
      ],
      "metadata": {
        "id": "SQ4VMYZWyvsi",
        "outputId": "f5c5e59f-5d64-4ea6-f5c5-a133a0bf6ecd",
        "colab": {
          "base_uri": "https://localhost:8080/",
          "height": 483
        }
      },
      "execution_count": 22,
      "outputs": [
        {
          "output_type": "display_data",
          "data": {
            "text/plain": [
              "<Figure size 1080x576 with 1 Axes>"
            ],
            "image/png": "[encoded data removed]"
          },
          "metadata": {}
        }
      ]
    },
    {
      "cell_type": "code",
      "source": [],
      "metadata": {
        "id": "YUZFK5mEDPAF"
      },
      "execution_count": null,
      "outputs": []
    },
    {
      "cell_type": "markdown",
      "source": [
        "Finito"
      ],
      "metadata": {
        "id": "kUMCYDS2_Ham"
      }
    }
  ]
}