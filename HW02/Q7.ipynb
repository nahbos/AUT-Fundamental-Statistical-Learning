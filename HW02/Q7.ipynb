{
  "nbformat": 4,
  "nbformat_minor": 0,
  "metadata": {
    "colab": {
      "provenance": [],
      "toc_visible": true,
      "authorship_tag": "ABX9TyNWJAHqVLKkeyqBMDmwCslN",
      "include_colab_link": true
    },
    "kernelspec": {
      "name": "python3",
      "display_name": "Python 3"
    },
    "language_info": {
      "name": "python"
    },
    "gpuClass": "standard"
  },
  "cells": [
    {
      "cell_type": "markdown",
      "metadata": {
        "id": "view-in-github",
        "colab_type": "text"
      },
      "source": [
        "<a href=\"https://colab.research.google.com/github/nahbos/AUT-Fundamental-Statistical-Learning/blob/main/HW02/Q7.ipynb\" target=\"_parent\"><img src=\"https://colab.research.google.com/assets/colab-badge.svg\" alt=\"Open In Colab\"/></a>"
      ]
    },
    {
      "cell_type": "markdown",
      "source": [
        "## Sobhan Moradian Daghigh\n",
        "\n",
        "- 12-23-2022\n",
        "\n",
        "### Ex02 - Q7"
      ],
      "metadata": {
        "id": "-FSqtmoz-gpg"
      }
    },
    {
      "cell_type": "code",
      "source": [
        "import numpy as np\n",
        "from matplotlib import pyplot as plt\n",
        "import random\n",
        "from scipy.stats import norm\n",
        "import pandas as pd\n",
        "import math"
      ],
      "metadata": {
        "id": "WmTnhFLc-os_"
      },
      "execution_count": 2,
      "outputs": []
    },
    {
      "cell_type": "code",
      "source": [],
      "metadata": {
        "id": "a6otVVnVpahQ"
      },
      "execution_count": null,
      "outputs": []
    },
    {
      "cell_type": "code",
      "source": [
        "n = 1919\n",
        "X = 922\n",
        "theta_hat = 922 / 1919\n",
        "se_hat = math.sqrt(theta_hat * (1 - theta_hat) / n)"
      ],
      "metadata": {
        "id": "1A-roM3gpae3"
      },
      "execution_count": 3,
      "outputs": []
    },
    {
      "cell_type": "code",
      "source": [
        "z_05 = norm.ppf(0.975)\n",
        "confidence_interval = (theta_hat - z_05 * se_hat, theta_hat + z_05 * se_hat)"
      ],
      "metadata": {
        "id": "B4VEkzexpacY"
      },
      "execution_count": 4,
      "outputs": []
    },
    {
      "cell_type": "code",
      "source": [
        "w = (theta_hat - 0.5) / se_hat\n",
        "p_value = 2 * (1 - norm.cdf(abs(w)))"
      ],
      "metadata": {
        "id": "1wm2Ll06ptVY"
      },
      "execution_count": 5,
      "outputs": []
    },
    {
      "cell_type": "code",
      "source": [
        "print('|_ Estimated theta: %.3f' % theta_hat)\n",
        "print('\\n|_ Estimated SE: %.3f' % se_hat)\n",
        "print('\\n|_ 95%% confidence interval: (%.3f, %.3f)' % confidence_interval)\n",
        "print('\\n|_ Wald statistic: %.3f' % w)\n",
        "print('\\n|_ p-value: %.3f' % p_value)"
      ],
      "metadata": {
        "id": "Hnbij_jLptTH",
        "outputId": "582c3a3f-382b-4c33-d126-778c3a35a988",
        "colab": {
          "base_uri": "https://localhost:8080/"
        }
      },
      "execution_count": 11,
      "outputs": [
        {
          "output_type": "stream",
          "name": "stdout",
          "text": [
            "|_ Estimated theta: 0.480\n",
            "\n",
            "|_ Estimated SE: 0.011\n",
            "\n",
            "|_ 95% confidence interval: (0.458, 0.503)\n",
            "\n",
            "|_ Wald statistic: -1.713\n",
            "\n",
            "|_ p-value: 0.087\n"
          ]
        }
      ]
    },
    {
      "cell_type": "code",
      "source": [],
      "metadata": {
        "id": "wUbVlWfyp1gv"
      },
      "execution_count": null,
      "outputs": []
    },
    {
      "cell_type": "markdown",
      "source": [
        "Finito"
      ],
      "metadata": {
        "id": "kUMCYDS2_Ham"
      }
    }
  ]
}